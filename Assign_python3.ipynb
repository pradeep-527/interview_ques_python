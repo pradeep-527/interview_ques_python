{
 "cells": [
  {
   "cell_type": "markdown",
   "id": "1d137e5c",
   "metadata": {},
   "source": [
    "## 1.Why are functions advantageous to have in your programs?\n",
    "\n",
    "1.Reusability\n",
    "2.Modularity\n",
    "3.Abstraction\n",
    "4.Debugging\n",
    "5.Maintainability\n",
    "\n",
    "Functions make your code more organized, readable, reusable, and maintainable, making it easier to write and maintain complex programs."
   ]
  },
  {
   "cell_type": "markdown",
   "id": "22173142",
   "metadata": {},
   "source": [
    "## 2.When does the code in a function run: when it's specified or when its called?\n",
    "\n",
    "The code inside the function is not executed until you call the function by using its name followed by parentheses.\n",
    "\n",
    "After the code inside the function has finished executing, the program jumps back to the point in the code where the function was called and continues executing from there."
   ]
  },
  {
   "cell_type": "markdown",
   "id": "ca5d34fe",
   "metadata": {},
   "source": [
    "## 3.What statement creates a function?\n",
    "\n",
    "This def statement is followed by the name of the function and a set of parentheses that may contain one or more parameters (input values) for the function. The code that performs the desired operation is then written inside the function block, followed by a return statement (if the function is supposed to return a value).\n",
    "\n",
    "def function_name(parameters):\n",
    "    # function code goes here\n",
    "    return result\n"
   ]
  },
  {
   "cell_type": "markdown",
   "id": "ffc45d99",
   "metadata": {},
   "source": [
    "## 4.What is the difference between a function and a function call?\n",
    "\n",
    "A function is a block of code that performs a specific task or set of tasks, while a function call is the act of invoking or executing a function with a specific set of input arguments (if any).\n",
    "\n",
    "When you define a function, you are essentially creating a reusable block of code that can be called multiple times from different parts of your program, each time with different input arguments (if the function requires them). The code inside the function is not executed until the function is called."
   ]
  },
  {
   "cell_type": "markdown",
   "id": "f28580fe",
   "metadata": {},
   "source": [
    "## 5.How many global scopes are there in a Python program? How many local scopes?\n",
    "\n",
    "The global scope is the outermost scope of a Python program, and any variable or function defined in this scope can be accessed from anywhere within the program.\n",
    "\n",
    "The number of local scopes in a Python program depends on the number of function calls made in the program. Each function call creates a new local scope, which is a temporary workspace where the variables and functions defined inside that function are stored.\n",
    "\n",
    "# Global scope\n",
    "x = 10\n",
    "y = 20\n",
    "\n",
    "def add():\n",
    "    # Accessing global variables within a function\n",
    "    result = x + y\n",
    "    print(result)\n",
    "\n",
    "#Calling the function\n",
    "\n",
    "\n",
    "x = 10\n",
    "\n",
    "def add(y):\n",
    "    # Local scope\n",
    "    result = x + y\n",
    "    print(result)\n",
    "\n",
    "#Calling the function\n",
    "add(20)  # Output: 30\n"
   ]
  },
  {
   "cell_type": "markdown",
   "id": "1b754c41",
   "metadata": {},
   "source": [
    "## 6.What happens to variables in a local scope when the function call returns?\n",
    "\n",
    "When a function call returns, the local variables defined within that function are destroyed, and their memory space is released. The values stored in these variables are no longer accessible outside the function.\n",
    "\n",
    "def multiply(x, y):\n",
    "    # Local scope\n",
    "    z = x * y\n",
    "    return z\n",
    "\n",
    "result = multiply(3, 4)\n",
    "print(result)  # Output: 12\n",
    "\n",
    "#This will raise a NameError because 'z' only exists within the local scope of the multiply() function\n",
    "print(z)\n"
   ]
  },
  {
   "cell_type": "markdown",
   "id": "85663a59",
   "metadata": {},
   "source": [
    "## 7. What is the concept of a return value? Is it possible to have a return value in an expression?\n",
    "\n",
    "A return value is the value that a function sends back to the caller when it finishes executing.\n",
    "\n",
    "It is also possible to use a return value in an expression. For example, you could call a function and pass its return value as an argument to another function or operator:\n",
    "\n",
    "def add(x, y):\n",
    "    # Local scope\n",
    "    result = x + y\n",
    "    return result\n",
    "\n",
    "def multiply(x, y):\n",
    "    # Local scope\n",
    "    result = x * y\n",
    "    return result\n",
    "\n",
    "#Call the functions in an expression\n",
    "result = multiply(add(2, 3), add(4, 5))\n",
    "\n",
    "#Print the result\n",
    "print(result)  # Output: 45\n"
   ]
  },
  {
   "cell_type": "markdown",
   "id": "7c678c1d",
   "metadata": {},
   "source": [
    "## 8.If a function does not have a return statement, what is the return value of a call to that function?\n",
    "\n",
    "In Python, None is a special value that represents the absence of a value or the lack of a return value. It is used to indicate that a function does not return anything, or that a variable or object has no value.\n",
    "\n",
    "def greet(name):\n",
    "    # Local scope\n",
    "    print(\"Hello, \" + name + \"!\")\n",
    "\n",
    "#Call the function\n",
    "greet(\"Alice\")\n",
    "\n",
    "#This will raise a TypeError because the function doesn't return anything\n",
    "result = greet(\"Bob\") + 1\n"
   ]
  },
  {
   "cell_type": "markdown",
   "id": "49d5b1c9",
   "metadata": {},
   "source": [
    "## 9.How do you make a function variable refer to the global variable?\n",
    "\n",
    "In Python, you can use the global keyword to make a function variable refer to a global variable with the same name. This allows you to access and modify the value of a global variable from within a function.\n",
    "\n",
    "x = 10  # Global variable\n",
    "\n",
    "def func():\n",
    "    # Local scope\n",
    "    global x  # Use the global keyword to access the global variable\n",
    "    x = 20   # Modify the value of the global variable\n",
    "\n",
    "#Call the function\n",
    "func()\n",
    "\n",
    "#Print the value of the global variable\n",
    "print(x)  # Output: 20\n"
   ]
  },
  {
   "cell_type": "markdown",
   "id": "d867af36",
   "metadata": {},
   "source": [
    "## 10. What is the data type of None?\n",
    "\n",
    "The data type of None is NoneType. It is a unique data type that has only one possible value, which is None.\n",
    "\n",
    "x = None\n",
    "\n",
    "#Check the data type of x\n",
    "print(type(x))  # Output: <class 'NoneType'>\n"
   ]
  },
  {
   "cell_type": "markdown",
   "id": "52353533",
   "metadata": {},
   "source": [
    "## 11.11. What does the sentence import areallyourpetsnamederic do?\n",
    "\n",
    "The sentence import areallyourpetsnamederic is not a valid Python statement or module. It is a nonsensical sentence that does not have any meaning in the context of Python programming.\n",
    "The import statement is used to import modules, which are external libraries or packages that provide additional functionality to your code."
   ]
  },
  {
   "cell_type": "markdown",
   "id": "9ee062c2",
   "metadata": {},
   "source": [
    "## 12.If you had a bacon() feature in a spam module, what would you call it after importing spam?\n",
    "\n",
    "If you had a bacon() function in a spam module, you can call it after importing the spam module using the dot notation spam.bacon().\n",
    "\n"
   ]
  },
  {
   "cell_type": "markdown",
   "id": "3223e9d0",
   "metadata": {},
   "source": [
    "## 13.What can you do to save a programme from crashing if it encounters an error?\n",
    "\n"
   ]
  },
  {
   "cell_type": "code",
   "execution_count": 5,
   "id": "ed775133",
   "metadata": {},
   "outputs": [
    {
     "name": "stdout",
     "output_type": "stream",
     "text": [
      "its throws error\n",
      "17\n"
     ]
    }
   ],
   "source": [
    "try:\n",
    "    # Code that might raise an error\n",
    "    x = 10 / 0\n",
    "except ZeroDivisionError:\n",
    "    print('its throws error')\n",
    "    X=9\n",
    "    y=8\n",
    "    z=X+y\n",
    "    print(z)"
   ]
  },
  {
   "cell_type": "markdown",
   "id": "55ada692",
   "metadata": {},
   "source": [
    "## 14.What is the purpose of the try clause? What is the purpose of the except clause?\n",
    "\n",
    "The purpose of the try clause is to enclose the code that might raise an error. The code inside the try block is executed normally, and if an error occurs, Python will jump to the except block.\n",
    "\n",
    "The purpose of the except clause is to handle the error if it occurs. The code inside the except block is executed only if an error occurs in the try block. You can specify which type of error you want to handle by using the appropriate exception class in the except statement.\n",
    "\n",
    "try:\n",
    "    # Code that might raise an error\n",
    "    x = 10 / 0\n",
    "except ZeroDivisionError:\n",
    "    # Code to handle the error\n",
    "    print(\"Error: Cannot divide by zero.\")"
   ]
  }
 ],
 "metadata": {
  "kernelspec": {
   "display_name": "Python 3 (ipykernel)",
   "language": "python",
   "name": "python3"
  },
  "language_info": {
   "codemirror_mode": {
    "name": "ipython",
    "version": 3
   },
   "file_extension": ".py",
   "mimetype": "text/x-python",
   "name": "python",
   "nbconvert_exporter": "python",
   "pygments_lexer": "ipython3",
   "version": "3.9.12"
  }
 },
 "nbformat": 4,
 "nbformat_minor": 5
}
