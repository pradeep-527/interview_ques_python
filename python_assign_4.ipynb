{
 "cells": [
  {
   "cell_type": "markdown",
   "id": "2791ad66",
   "metadata": {},
   "source": [
    "## 1.What exactly is []?\n",
    "\n",
    "The symbol \"[]\" typically denotes an empty list or array in many programming languages. It is used to represent a data structure that contains no elements."
   ]
  },
  {
   "cell_type": "markdown",
   "id": "0f36f7b6",
   "metadata": {},
   "source": [
    "## 2.In a list of values stored in a variable called spam, how would you assign the value 'hello' as the third value? (Assume [2, 4, 6, 8, 10] are in spam.)"
   ]
  },
  {
   "cell_type": "code",
   "execution_count": 2,
   "id": "d97b989d",
   "metadata": {},
   "outputs": [
    {
     "data": {
      "text/plain": [
       "[2, 4, 6, 'hello', 10]"
      ]
     },
     "execution_count": 2,
     "metadata": {},
     "output_type": "execute_result"
    }
   ],
   "source": [
    "spam[3] = \"hello\"\n",
    "spam"
   ]
  },
  {
   "cell_type": "markdown",
   "id": "d6326c31",
   "metadata": {},
   "source": [
    "## 3.Lets pretend the spam includes the list ['a','b','c','d']for the next three queries.     What is the value of spam[int(int('3' * 2) / 11)]?\n",
    "\n"
   ]
  },
  {
   "cell_type": "code",
   "execution_count": 4,
   "id": "17e3b3f3",
   "metadata": {},
   "outputs": [
    {
     "name": "stdout",
     "output_type": "stream",
     "text": [
      "d\n"
     ]
    }
   ],
   "source": [
    "spam=['a','b','c','d']\n",
    "a=spam[int(int('3'*2)/11)]\n",
    "print(a)"
   ]
  },
  {
   "cell_type": "markdown",
   "id": "9bf61567",
   "metadata": {},
   "source": [
    "## 4.What is the value of spam[-1]?\n"
   ]
  },
  {
   "cell_type": "code",
   "execution_count": 5,
   "id": "d715c2db",
   "metadata": {},
   "outputs": [
    {
     "data": {
      "text/plain": [
       "'d'"
      ]
     },
     "execution_count": 5,
     "metadata": {},
     "output_type": "execute_result"
    }
   ],
   "source": [
    "spam[-1]"
   ]
  },
  {
   "cell_type": "markdown",
   "id": "6b786b14",
   "metadata": {},
   "source": [
    "## 5.What is the value of spam[:2]?"
   ]
  },
  {
   "cell_type": "code",
   "execution_count": 6,
   "id": "c1a52ef7",
   "metadata": {},
   "outputs": [
    {
     "data": {
      "text/plain": [
       "['a', 'b']"
      ]
     },
     "execution_count": 6,
     "metadata": {},
     "output_type": "execute_result"
    }
   ],
   "source": [
    "spam[:2]"
   ]
  },
  {
   "cell_type": "markdown",
   "id": "d1833670",
   "metadata": {},
   "source": [
    "## Let's pretend bacon has the list [3.14,'cat',11,'cat',True] for the next three questions."
   ]
  },
  {
   "cell_type": "markdown",
   "id": "6997ffb5",
   "metadata": {},
   "source": [
    "## 6. What is the value of bacon.index('cat')?"
   ]
  },
  {
   "cell_type": "code",
   "execution_count": 8,
   "id": "8b9c740a",
   "metadata": {},
   "outputs": [
    {
     "data": {
      "text/plain": [
       "1"
      ]
     },
     "execution_count": 8,
     "metadata": {},
     "output_type": "execute_result"
    }
   ],
   "source": [
    "bacon=[3.14,'cat',11,'cat',True]\n",
    "a=bacon.index('cat')\n",
    "a"
   ]
  },
  {
   "cell_type": "markdown",
   "id": "87f6a88f",
   "metadata": {},
   "source": [
    "## 7. How does bacon.append(99) change the look of the list value in bacon?"
   ]
  },
  {
   "cell_type": "code",
   "execution_count": 9,
   "id": "5ea55491",
   "metadata": {},
   "outputs": [
    {
     "data": {
      "text/plain": [
       "[3.14, 'cat', 11, 'cat', True, 99]"
      ]
     },
     "execution_count": 9,
     "metadata": {},
     "output_type": "execute_result"
    }
   ],
   "source": [
    "bacon=[3.14,'cat',11,'cat',True]\n",
    "bacon.append(99)\n",
    "bacon"
   ]
  },
  {
   "cell_type": "markdown",
   "id": "577f4ed3",
   "metadata": {},
   "source": [
    "## 8.How does bacon.remove('cat') change the look of the list in bacon?"
   ]
  },
  {
   "cell_type": "code",
   "execution_count": 10,
   "id": "6cb1432c",
   "metadata": {},
   "outputs": [
    {
     "data": {
      "text/plain": [
       "[3.14, 11, 'cat', True]"
      ]
     },
     "execution_count": 10,
     "metadata": {},
     "output_type": "execute_result"
    }
   ],
   "source": [
    "bacon=[3.14,'cat',11,'cat',True]\n",
    "bacon.remove('cat')\n",
    "bacon"
   ]
  },
  {
   "cell_type": "markdown",
   "id": "4a02e2f0",
   "metadata": {},
   "source": [
    "## 9.What are the list concatenation and list replication operators?"
   ]
  },
  {
   "cell_type": "markdown",
   "id": "063326a7",
   "metadata": {},
   "source": [
    "In Python, the list concatenation operator is the plus symbol (+), and the list replication operator is the asterisk symbol (*).\n",
    "\n",
    "list1 = [1, 2, 3]\n",
    "list2 = [4, 5, 6]\n",
    "concatenated_list = list1 + list2\n",
    "print(concatenated_list) # Output: [1, 2, 3, 4, 5, 6]\n",
    "\n",
    "list1 = [1, 2, 3]\n",
    "replicated_list = list1 * 3\n",
    "print(replicated_list) # Output: [1, 2, 3, 1, 2, 3, 1, 2, 3]\n"
   ]
  },
  {
   "cell_type": "markdown",
   "id": "8c4209e3",
   "metadata": {},
   "source": [
    "## 10.What is difference between the list methods append() and insert()?\n",
    "\n"
   ]
  },
  {
   "cell_type": "markdown",
   "id": "075fc36d",
   "metadata": {},
   "source": [
    "append() adds an element to the end of the list, while insert() adds an element at a specified index."
   ]
  },
  {
   "cell_type": "code",
   "execution_count": 11,
   "id": "fcdfdb34",
   "metadata": {},
   "outputs": [
    {
     "name": "stdout",
     "output_type": "stream",
     "text": [
      "[1, 2, 3, 4, 5, 6]\n",
      "[1, 2, 'hello', 3, 4, 5, 6]\n"
     ]
    }
   ],
   "source": [
    "my_list = [1, 2, 3, 4, 5]\n",
    "\n",
    "# Using append()\n",
    "my_list.append(6)\n",
    "print(my_list)  # Output: [1, 2, 3, 4, 5, 6]\n",
    "\n",
    "# Using insert()\n",
    "my_list.insert(2, 'hello')\n",
    "print(my_list)  # Output: [1, 2, 'hello', 3, 4, 5, 6]\n"
   ]
  },
  {
   "cell_type": "markdown",
   "id": "9ade3aa0",
   "metadata": {},
   "source": [
    " ## 11.What are the two methods for removing items from a list?\n",
    " \n",
    " The remove() method removes the first occurrence of a specified element from the list.\n",
    " \n",
    " The pop() method removes an element at a specified index from the list and returns its value. If no index is specified, it removes and returns the last element in the list"
   ]
  },
  {
   "cell_type": "markdown",
   "id": "da85df1d",
   "metadata": {},
   "source": [
    "## 12.Describe how list values and string values are identical.\n",
    "\n",
    "-->Indexing: Both lists and strings support indexing, which means that you can access individual elements of the sequence by their position (index) in the sequence.\n",
    "\n",
    "my_list = [1, 2, 3]\n",
    "my_string = 'hello'\n",
    "print(my_list[0])    # Output: 1\n",
    "print(my_string[0])  # Output: 'h'\n",
    "\n",
    "\n",
    "-->Slicing: Both lists and strings support slicing, which means that you can access a subset of the sequence by specifying a range of indices. \n",
    "\n",
    "my_list = [1, 2, 3, 4, 5]\n",
    "my_string = 'hello world'\n",
    "print(my_list[0:3])     # Output: [1, 2, 3]\n",
    "print(my_string[0:5])   # Output: 'hello'\n",
    "\n",
    "--->Concatenation: Both lists and strings support concatenation, which means that you can combine two sequences into a single sequence.\n",
    "\n",
    "my_list1 = [1, 2, 3]\n",
    "my_list2 = [4, 5, 6]\n",
    "my_string1 = 'hello'\n",
    "my_string2 = 'world'\n",
    "new_list = my_list1 + my_list2\n",
    "new_string = my_string1 + ' ' + my_string2\n",
    "print(new_list)    # Output: [1, 2, 3, 4, 5, 6]\n",
    "print(new_string)  # Output: 'hello world'\n",
    "\n"
   ]
  },
  {
   "cell_type": "markdown",
   "id": "7f2d99ee",
   "metadata": {},
   "source": [
    "## 13.What's the difference between tuples and lists?\n",
    "\n",
    "Tuples and lists are both types of sequences in Python, but they have some important differences:\n",
    "\n",
    "1.Mutability: Tuples are immutable, which means that once a tuple is created, you cannot change its contents (add, remove, or modify elements). In contrast, lists are mutable, which means that you can change their contents (add, remove, or modify elements) after they are created.\n",
    "\n",
    "2.Syntax: Tuples are defined using parentheses () and commas (,), while lists are defined using square brackets [] and commas (,).\n",
    "\n",
    "3.Performance: Tuples are generally more efficient than lists in terms of memory and performance, especially for small collections of data. This is because tuples are simpler data structures than lists, and their immutability allows for certain optimizations that are not possible with mutable data structures like lists."
   ]
  },
  {
   "cell_type": "markdown",
   "id": "26af2b7b",
   "metadata": {},
   "source": [
    "## 14.How do you type a tuple value that only contains the integer 42?\n",
    "\n",
    "my_tuple = (42,)\n",
    "Note the comma after the integer 42 - this is necessary to create a tuple with a single element. Without the comma, Python will interpret the expression as an integer value, not a tuple."
   ]
  },
  {
   "cell_type": "markdown",
   "id": "e9c63ee7",
   "metadata": {},
   "source": [
    "## 15.How do you get a list value's tuple form? How do you get a tuple value's list form?"
   ]
  },
  {
   "cell_type": "markdown",
   "id": "47a66b66",
   "metadata": {},
   "source": [
    "To get a list value's tuple form, you can use the tuple() function. This function takes a single argument, which should be an iterable (such as a list) and returns a tuple containing the elements of the iterable. "
   ]
  },
  {
   "cell_type": "code",
   "execution_count": 12,
   "id": "1acb0637",
   "metadata": {},
   "outputs": [
    {
     "name": "stdout",
     "output_type": "stream",
     "text": [
      "(1, 2, 3)\n"
     ]
    }
   ],
   "source": [
    "my_list = [1, 2, 3]\n",
    "my_tuple = tuple(my_list)\n",
    "print(my_tuple)  # Output: (1, 2, 3)\n"
   ]
  },
  {
   "cell_type": "markdown",
   "id": "b39865bb",
   "metadata": {},
   "source": [
    "To get a tuple value's list form, you can use the list() function. This function takes a single argument, which should be an iterable (such as a tuple) and returns a list containing the elements of the iterable. "
   ]
  },
  {
   "cell_type": "code",
   "execution_count": 13,
   "id": "652874f4",
   "metadata": {},
   "outputs": [
    {
     "name": "stdout",
     "output_type": "stream",
     "text": [
      "[1, 2, 3]\n"
     ]
    }
   ],
   "source": [
    "my_tuple = (1, 2, 3)\n",
    "my_list = list(my_tuple)\n",
    "print(my_list)  # Output: [1, 2, 3]\n"
   ]
  },
  {
   "cell_type": "markdown",
   "id": "ca368aca",
   "metadata": {},
   "source": [
    "## 16.Variables that 'contain' list values are not necessarily lists themselves. Instead, what do they contain?\n",
    "\n",
    "The variable my_list does not contain the list itself, but rather a reference to the list object in memory. We can confirm this by assigning the same list to another variable and checking their identity (memory address) using the id() function:\n",
    "\n",
    "my_list = [1, 2, 3]\n",
    "other_list = my_list\n",
    "print(id(my_list))     # Output: <memory address>\n",
    "print(id(other_list))  # Output: <memory address>\n"
   ]
  },
  {
   "cell_type": "markdown",
   "id": "97f3a5ed",
   "metadata": {},
   "source": [
    "## 17. How do you distinguish between copy.copy() and copy.deepcopy()?\n",
    "\n",
    "Both copy.copy() and copy.deepcopy() are methods from the copy module in Python that create a new object with the same contents as an existing object. However, the main difference between them is that copy.copy() creates a shallow copy, while copy.deepcopy() creates a deep copy.\n",
    "\n",
    "import copy\n",
    "\n",
    "original = [1, [2, 3]]\n",
    "shallow_copy = copy.copy(original)\n",
    "\n",
    "shallow_copy[0] = 4\n",
    "shallow_copy[1][0] = 5\n",
    "\n",
    "print(original)       # Output: [1, [5, 3]]\n",
    "print(shallow_copy)    # Output: [4, [5, 3]]\n",
    "\n",
    "\n",
    "\n",
    "\n",
    "import copy\n",
    "\n",
    "original = [1, [2, 3]]\n",
    "deep_copy = copy.deepcopy(original)\n",
    "\n",
    "deep_copy[0] = 4\n",
    "deep_copy[1][0] = 5\n",
    "\n",
    "print(original)    # Output: [1, [2, 3]]\n",
    "print(deep_copy)   # Output: [4, [5, 3]]\n"
   ]
  }
 ],
 "metadata": {
  "kernelspec": {
   "display_name": "Python 3 (ipykernel)",
   "language": "python",
   "name": "python3"
  },
  "language_info": {
   "codemirror_mode": {
    "name": "ipython",
    "version": 3
   },
   "file_extension": ".py",
   "mimetype": "text/x-python",
   "name": "python",
   "nbconvert_exporter": "python",
   "pygments_lexer": "ipython3",
   "version": "3.9.12"
  }
 },
 "nbformat": 4,
 "nbformat_minor": 5
}
