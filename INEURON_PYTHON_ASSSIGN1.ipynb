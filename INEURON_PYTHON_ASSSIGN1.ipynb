{
 "cells": [
  {
   "cell_type": "markdown",
   "id": "2360f3a6",
   "metadata": {},
   "source": [
    "### 1. In the below elements which of them are values or an expression? eg:- values can be integer or string and expressions will be mathematical operators.\n",
    "*\n",
    "-87.8\n",
    "-\n",
    "/\n",
    "+\n",
    "6"
   ]
  },
  {
   "cell_type": "code",
   "execution_count": null,
   "id": "6905e4ac",
   "metadata": {},
   "outputs": [],
   "source": [
    "* ---expression\n",
    "-87.8 --- value\n",
    "- ---- expression\n",
    "/ --- expression\n",
    "+ --- expression\n",
    "6 -- value"
   ]
  },
  {
   "cell_type": "markdown",
   "id": "3032458c",
   "metadata": {},
   "source": [
    "## 2.What is the difference between string and variable?\n",
    "\n",
    "String -----> collection of characters\n",
    "variable ----> storing the element ,its a container of value"
   ]
  },
  {
   "cell_type": "markdown",
   "id": "09a92ca2",
   "metadata": {},
   "source": [
    "## 3.Describe three different data types.\n",
    "\n",
    "Integer(int) ---> its accepting all numeric values without decimal values.\n",
    "strings(str) ----> its accepting collection of charcters\n",
    "boolean ----> its accepting boolean values (True ,Flase) "
   ]
  },
  {
   "cell_type": "markdown",
   "id": "5bd4b8a0",
   "metadata": {},
   "source": [
    "## 4.What is an expression made up of? What do all expressions do?\n",
    "\n",
    "\n",
    "\n",
    "An expression is a combination of operators and operands that is interpreted to produce some other value.\n"
   ]
  },
  {
   "cell_type": "markdown",
   "id": "b956e59a",
   "metadata": {},
   "source": [
    "## 5.This assignment statements, like spam = 10. What is the difference between an expression and a statement?\n",
    "\n",
    "An expression is a combination of values and operators that evaluates to a value, while a statement is a complete line of code that performs an action. An expression can be part of a statement, but a statement cannot be part of an expression.\n",
    "\n",
    "In the case of the assignment statement spam = 10, \"spam = 10\" is a statement that assigns the value 10 to the variable named \"spam\". The expression \"10\" is evaluated and then assigned to the variable."
   ]
  },
  {
   "cell_type": "markdown",
   "id": "f75ed608",
   "metadata": {},
   "source": [
    "## 6. After running the following code, what does the variable bacon contain?\n",
    "bacon = 22\n",
    "bacon + 1\n",
    "\n",
    "Its givews output as 22."
   ]
  },
  {
   "cell_type": "markdown",
   "id": "cfa82771",
   "metadata": {},
   "source": [
    "## 7.What should the values of the following two terms be?\n",
    "\n",
    "'spam'+'spamspam'\n",
    "'spam'*3\n",
    "\n",
    "spamspamspam\n",
    "spamspamsapm"
   ]
  },
  {
   "cell_type": "markdown",
   "id": "99582808",
   "metadata": {},
   "source": [
    "## 8. Why is eggs a valid variable name while 100 is invalid?\n",
    "\n",
    "Because, coming to name conventions variable decarltion starts with a-z or _ (underscore) not numbers."
   ]
  },
  {
   "cell_type": "markdown",
   "id": "0dcf7a20",
   "metadata": {},
   "source": [
    "## 9.What three functions can be used to get the integer, floating-point number, or string version of a value?\n",
    "\n",
    "int() - This function can be used to get the integer version of a value. For example, int(3.14) will return the integer 3.\n",
    "\n",
    "float() - This function can be used to get the floating-point number version of a value. For example, float(3) will return the floating-point number 3.0.\n",
    "\n",
    "str() - This function can be used to get the string version of a value. For example, str(3.14) will return the string '3.14'."
   ]
  },
  {
   "cell_type": "markdown",
   "id": "87430afb",
   "metadata": {},
   "source": [
    "## 10. Why does this expression cause an error? How can you fix it?\n",
    "\n",
    "\"I have eaten \" + 99 + \"burritos\"\n",
    "\n",
    "Because ,99 is integer,so we can't add string with integer-- its throws  type error.\n",
    "we need to convert 99 into str then it will execute\n",
    "\n",
    "\"I have eaten \" + str(99) + \"burritos\"\n",
    "\n"
   ]
  }
 ],
 "metadata": {
  "kernelspec": {
   "display_name": "Python 3 (ipykernel)",
   "language": "python",
   "name": "python3"
  },
  "language_info": {
   "codemirror_mode": {
    "name": "ipython",
    "version": 3
   },
   "file_extension": ".py",
   "mimetype": "text/x-python",
   "name": "python",
   "nbconvert_exporter": "python",
   "pygments_lexer": "ipython3",
   "version": "3.9.12"
  }
 },
 "nbformat": 4,
 "nbformat_minor": 5
}
